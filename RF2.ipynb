{
  "nbformat": 4,
  "nbformat_minor": 0,
  "metadata": {
    "colab": {
      "provenance": [],
      "mount_file_id": "1yI3lLqrhYXgmhVglepebnRKf3eikmnsM",
      "authorship_tag": "ABX9TyNMIapwc7Oi0QvZm1o3RsgG",
      "include_colab_link": true
    },
    "kernelspec": {
      "name": "python3",
      "display_name": "Python 3"
    },
    "language_info": {
      "name": "python"
    }
  },
  "cells": [
    {
      "cell_type": "markdown",
      "metadata": {
        "id": "view-in-github",
        "colab_type": "text"
      },
      "source": [
        "<a href=\"https://colab.research.google.com/github/SavannahWithAnH/BigMart_Sales_Predictions/blob/main/RF2.ipynb\" target=\"_parent\"><img src=\"https://colab.research.google.com/assets/colab-badge.svg\" alt=\"Open In Colab\"/></a>"
      ]
    },
    {
      "cell_type": "code",
      "execution_count": 6,
      "metadata": {
        "colab": {
          "base_uri": "https://localhost:8080/"
        },
        "id": "SAMV7X2b6WFg",
        "outputId": "37b4fcdc-84e8-4c7e-a5ea-0b2a6b6ccd2a"
      },
      "outputs": [
        {
          "output_type": "stream",
          "name": "stdout",
          "text": [
            "R Squared value =  0.567822096849592\n"
          ]
        }
      ],
      "source": [
        "import sqlite3\n",
        "import pandas as pd\n",
        "from sklearn.model_selection import train_test_split\n",
        "from sklearn.preprocessing import StandardScaler\n",
        "from sklearn.ensemble import RandomForestRegressor\n",
        "from sklearn import metrics\n",
        "\n",
        "# Load the dataset into a SQLite database\n",
        "conn = sqlite3.connect('sales_data.db')\n",
        "sales_predict_df = pd.read_csv(\"/train_modified.csv\")\n",
        "sales_predict_df.to_sql('sales_data', conn, if_exists='replace', index=False)\n"
      ]
    },
    {
      "cell_type": "code",
      "source": [
        "# Prepare features and target using SQL\n",
        "query = \"\"\"\n",
        "    SELECT * FROM sales_data\n",
        "    \"\"\"\n",
        "data = pd.read_sql(query, conn)\n",
        "features_df = data.drop(columns=['Item_Identifier', 'Outlet_Identifier', 'Item_Outlet_Sales'])\n",
        "target_df = data['Item_Outlet_Sales']\n",
        "\n",
        "# Split the data into training and testing sets\n",
        "X = features_df.values\n",
        "y = target_df.values\n",
        "X_train, X_test, y_train, y_test = train_test_split(X, y, random_state=42)\n",
        "\n",
        "# Standardize features\n",
        "scaler = StandardScaler()\n",
        "X_train_scaled = scaler.fit_transform(X_train)\n",
        "X_test_scaled = scaler.transform(X_test)\n",
        "\n",
        "# Create a Random Forest regressor\n",
        "regressor = RandomForestRegressor(random_state=42)\n",
        "\n",
        "# Fit the regressor on the training data\n",
        "regressor.fit(X_train_scaled, y_train)\n",
        "\n",
        "# Make predictions on the test set\n",
        "sales_data_predictions = regressor.predict(X_test_scaled)"
      ],
      "metadata": {
        "id": "cv17nOdJ74W2"
      },
      "execution_count": null,
      "outputs": []
    },
    {
      "cell_type": "code",
      "source": [
        "# Calculate R squared value\n",
        "r2_sales = metrics.r2_score(y_test, sales_data_predictions)\n",
        "print('R Squared value = ', r2_sales)"
      ],
      "metadata": {
        "id": "MuaC4VMe763O"
      },
      "execution_count": null,
      "outputs": []
    }
  ]
}