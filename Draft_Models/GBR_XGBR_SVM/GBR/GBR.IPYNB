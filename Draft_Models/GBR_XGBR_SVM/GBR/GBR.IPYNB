{
 "cells": [
  {
   "cell_type": "code",
   "execution_count": 2,
   "metadata": {},
   "outputs": [
    {
     "name": "stdout",
     "output_type": "stream",
     "text": [
      "<class 'pandas.core.frame.DataFrame'>\n",
      "RangeIndex: 8523 entries, 0 to 8522\n",
      "Columns: 463 entries, Item_Visibility to Outlet_Identifier_OUT049\n",
      "dtypes: float64(2), uint8(461)\n",
      "memory usage: 3.9 MB\n",
      "R Square Score: 0.6884510454372104\n"
     ]
    }
   ],
   "source": [
    "# Import necessary libraries\n",
    "from sklearn.model_selection import train_test_split, RandomizedSearchCV\n",
    "from sklearn.preprocessing import StandardScaler\n",
    "from sklearn.svm import SVR\n",
    "from sklearn.metrics import r2_score\n",
    "import pandas as pd\n",
    "from sklearn.ensemble import GradientBoostingRegressor\n",
    "from sklearn.preprocessing import MinMaxScaler\n",
    "from sklearn.preprocessing import LabelEncoder\n",
    "# Load the dataset\n",
    "sales_predict_df = pd.read_csv(\"../Resources/Train_Output_CSV.csv\")\n",
    "\n",
    "# # Prepare features and target\n",
    "# # Drop the target column \"Item_Outlet_Sales\" from the feature DataFrame\n",
    "# # features_df = sales_predict_df.drop(columns=['Item_Outlet_Sales','Item_Identifier','Item_Visibility'])\n",
    "features_df = sales_predict_df.drop(columns= ['Item_Fat_Content','Item_Identifier', 'Item_Outlet_Sales'])\n",
    "\n",
    "\n",
    "features_df = pd.get_dummies(features_df, columns=['Outlet_Type','Outlet_Size','Outlet_Location_Type','Item_Weight','Outlet_Establishment_Year','Item_Type','Outlet_Identifier'])\n",
    "# # Initialize encoder\n",
    "#label_encoder = LabelEncoder()\n",
    "\n",
    "# # Replace Outlet_Size with its encoded labels\n",
    "# features_df['Outlet_Size'] = label_encoder.fit_transform(features_df['Outlet_Size'])\n",
    "# features_df[\"Item_Fat_Content\"] = label_encoder.fit_transform(features_df[\"Item_Fat_Content\"])\n",
    "# # Extract target variables\n",
    "target_df = sales_predict_df['Item_Outlet_Sales']\n",
    "features_df.info()\n",
    "\n",
    "X = features_df.values\n",
    "y = target_df.values\n",
    "\n",
    "# Split the data into training and testing sets\n",
    "X_train, X_test, y_train, y_test = train_test_split(X, y, test_size=0.01, random_state=3)\n",
    "\n",
    "# Initialize the scaler\n",
    "scaler = MinMaxScaler()\n",
    "\n",
    "# Fit and transform your training data\n",
    "X_train_scaled = scaler.fit_transform(X_train)\n",
    "\n",
    "# Only transform your test data\n",
    "X_test_scaled = scaler.transform(X_test)\n",
    "gbr = GradientBoostingRegressor(\n",
    "    n_estimators=100,\n",
    "    learning_rate=0.15,\n",
    "    max_depth=3,\n",
    "    min_samples_split=2, \n",
    "    min_samples_leaf=1, \n",
    "    \n",
    "    subsample=0.65,\n",
    "    warm_start=False\n",
    "    )\n",
    "\n",
    "# Fit the model\n",
    "gbr.fit(X_train, y_train)\n",
    "\n",
    "# Make predictions\n",
    "y_pred = gbr.predict(X_test)\n",
    "\n",
    "# Calculate R2 Score\n",
    "r2 = r2_score(y_test, y_pred)\n",
    "print(f'R Square Score: {r2}')"
   ]
  },
  {
   "cell_type": "code",
   "execution_count": null,
   "metadata": {},
   "outputs": [],
   "source": []
  }
 ],
 "metadata": {
  "kernelspec": {
   "display_name": "PythonData",
   "language": "python",
   "name": "pythondata"
  },
  "language_info": {
   "codemirror_mode": {
    "name": "ipython",
    "version": 3
   },
   "file_extension": ".py",
   "mimetype": "text/x-python",
   "name": "python",
   "nbconvert_exporter": "python",
   "pygments_lexer": "ipython3",
   "version": "3.9.13"
  },
  "orig_nbformat": 4
 },
 "nbformat": 4,
 "nbformat_minor": 2
}
