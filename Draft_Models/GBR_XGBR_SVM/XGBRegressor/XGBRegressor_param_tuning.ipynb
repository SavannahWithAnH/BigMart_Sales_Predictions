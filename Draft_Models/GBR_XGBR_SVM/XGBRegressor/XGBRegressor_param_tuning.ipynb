{
 "cells": [
  {
   "cell_type": "markdown",
   "metadata": {},
   "source": []
  },
  {
   "cell_type": "code",
   "execution_count": 1,
   "metadata": {},
   "outputs": [
    {
     "ename": "NameError",
     "evalue": "name 'XGBRegressor' is not defined",
     "output_type": "error",
     "traceback": [
      "\u001b[1;31m---------------------------------------------------------------------------\u001b[0m",
      "\u001b[1;31mNameError\u001b[0m                                 Traceback (most recent call last)",
      "Cell \u001b[1;32mIn[1], line 37\u001b[0m\n\u001b[0;32m     34\u001b[0m X_test_scaled \u001b[39m=\u001b[39m X_scaler\u001b[39m.\u001b[39mtransform(X_test)\n\u001b[0;32m     36\u001b[0m \u001b[39m# Uee XGBoost to define regressor model\u001b[39;00m\n\u001b[1;32m---> 37\u001b[0m regressor \u001b[39m=\u001b[39m XGBRegressor(learning_rate\u001b[39m=\u001b[39m\u001b[39m0.01\u001b[39m,\n\u001b[0;32m     38\u001b[0m     n_estimators\u001b[39m=\u001b[39m\u001b[39m250\u001b[39m,\n\u001b[0;32m     39\u001b[0m     max_depth\u001b[39m=\u001b[39m\u001b[39m2\u001b[39m,\n\u001b[0;32m     40\u001b[0m     min_child_weight\u001b[39m=\u001b[39m\u001b[39m23\u001b[39m,\n\u001b[0;32m     41\u001b[0m     gamma\u001b[39m=\u001b[39m\u001b[39m2\u001b[39m,\n\u001b[0;32m     42\u001b[0m     subsample\u001b[39m=\u001b[39m\u001b[39m.9\u001b[39m,\n\u001b[0;32m     43\u001b[0m     colsample_bytree\u001b[39m=\u001b[39m\u001b[39m.65\u001b[39m)\n\u001b[0;32m     45\u001b[0m \u001b[39m# Fit the model to the training data\u001b[39;00m\n\u001b[0;32m     46\u001b[0m regressor\u001b[39m.\u001b[39mfit(X_train_scaled, y_train)\n",
      "\u001b[1;31mNameError\u001b[0m: name 'XGBRegressor' is not defined"
     ]
    }
   ],
   "source": [
    "# Import our dependencies\n",
    "from sklearn.model_selection import train_test_split\n",
    "from sklearn.preprocessing import StandardScaler\n",
    "import pandas as pd\n",
    "import tensorflow as tf\n",
    "from sklearn.preprocessing import LabelEncoder\n",
    "from sklearn.model_selection import train_test_split\n",
    "from xgboost import XGBRegressor\n",
    "from sklearn import metrics\n",
    "\n",
    "#read trained_modified.csv\n",
    "sales_predict_df = pd.read_csv(\"../Resources/train_modified.csv\")\n",
    "sales_predict_df.head()\n",
    "\n",
    "\n",
    "#Create features and target array\n",
    "features_df = sales_predict_df.drop(columns= ['Item_Identifier', 'Outlet_Identifier', 'Item_Outlet_Sales'])\n",
    "target_df = sales_predict_df['Item_Outlet_Sales']\n",
    "#Set the target array values\n",
    "X = features_df.values\n",
    "y = target_df.values\n",
    "\n",
    "# Split the preprocessed data into a training and testing dataset\n",
    "X_train, X_test, y_train, y_test = train_test_split(X, y, random_state=3)\n",
    "\n",
    "# Create a StandardScaler instances\n",
    "scaler = StandardScaler()\n",
    "\n",
    "# Fit the StandardScaler\n",
    "X_scaler = scaler.fit(X_train)\n",
    "\n",
    "# Scale the data\n",
    "X_train_scaled = X_scaler.transform(X_train)\n",
    "X_test_scaled = X_scaler.transform(X_test)\n",
    "\n",
    "# Uee XGBoost to define regressor model\n",
    "regressor = XGBRegressor(learning_rate=0.01,\n",
    "    n_estimators=250,\n",
    "    max_depth=2,\n",
    "    min_child_weight=23,\n",
    "    gamma=2,\n",
    "    subsample=.9,\n",
    "    colsample_bytree=.65)\n",
    "\n",
    "# Fit the model to the training data\n",
    "regressor.fit(X_train_scaled, y_train)\n",
    "\n",
    "#Running the model on the training data to predict sales\n",
    "sales_data_predictions = regressor.predict(X_test_scaled)\n",
    "\n",
    "# In order to check the performance of the model we find the R squared Value\n",
    "r2_sales = metrics.r2_score(y_test, sales_data_predictions)\n",
    "print('R Squared value = ', r2_sales)"
   ]
  }
 ],
 "metadata": {
  "kernelspec": {
   "display_name": "PythonData",
   "language": "python",
   "name": "pythondata"
  },
  "language_info": {
   "codemirror_mode": {
    "name": "ipython",
    "version": 3
   },
   "file_extension": ".py",
   "mimetype": "text/x-python",
   "name": "python",
   "nbconvert_exporter": "python",
   "pygments_lexer": "ipython3",
   "version": "3.9.13"
  },
  "orig_nbformat": 4
 },
 "nbformat": 4,
 "nbformat_minor": 2
}
