{
 "cells": [
  {
   "cell_type": "markdown",
   "metadata": {},
   "source": [
    "# In this File, I've engineered a new dataset to examine possible performance gains. \n",
    "- I've dissected the 'Item_Identifier' and fine-tuned the 'Fat Content' categories.\n",
    "- Zero values have been addressed for more accurate results.\n",
    "- Optimal parameters obtained from grid search have been applied to enhance the analysis further.\n",
    "- Additionally, I have feature-engineered the 'Item_Sales' column to create a new column for 'Item_Sales_Bins'.\n",
    "\n"
   ]
  },
  {
   "cell_type": "code",
   "execution_count": 4,
   "metadata": {},
   "outputs": [],
   "source": [
    "import pandas as pd\n",
    "import tensorflow as tf\n",
    "import numpy as np\n",
    "\n",
    "from sklearn.model_selection import train_test_split\n",
    "from sklearn.preprocessing import StandardScaler\n",
    "from sklearn.impute import SimpleImputer\n",
    "from sklearn.metrics import r2_score\n",
    "from sklearn import metrics\n",
    "\n",
    "from xgboost import XGBRegressor\n",
    "\n",
    "#read trained_modified.csv\n",
    "sales_predict_df = pd.read_csv(\"Resources/Train_modified_Binned_400.csv\")\n",
    "sales_predict_df.head()\n",
    "\n",
    "\n",
    "#Create features and target array\n",
    "features_df = sales_predict_df.drop(columns= ['Item_Identifier','Item_Outlet_Sales'])\n",
    "# One-hot encoding using pd.get_dummies\n",
    "features_df = pd.get_dummies(features_df, columns=['Outlet_Identifier','Item_Type','Item_Outlet_Sales_Binned',\"Item_Fat_Content\",\"Outlet_Type\" ,'Outlet_Location_Type','Outlet_Size' ,'Outlet_Establishment_Year'])\n",
    "\n",
    "# Extract target variables\n",
    "target_df = sales_predict_df['Item_Outlet_Sales']\n",
    "#Set the target array values\n",
    "X = features_df.values\n",
    "y = target_df.values\n",
    "\n",
    "# Split the preprocessed data into a training and testing dataset\n",
    "X_train, X_test, y_train, y_test = train_test_split(X, y, random_state=3)\n",
    "\n",
    "# Create a StandardScaler instances\n",
    "scaler = StandardScaler()\n",
    "\n",
    "# Fit the StandardScaler\n",
    "X_scaler = scaler.fit(X_train)\n",
    "\n",
    "# Scale the data\n",
    "X_train_scaled = X_scaler.transform(X_train)\n",
    "X_test_scaled = X_scaler.transform(X_test)\n",
    "\n",
    "\n"
   ]
  },
  {
   "cell_type": "code",
   "execution_count": 4,
   "metadata": {},
   "outputs": [
    {
     "name": "stdout",
     "output_type": "stream",
     "text": [
      "R Squared value =  0.8205777997440779\n"
     ]
    }
   ],
   "source": [
    "\n",
    "# Uee XGBoost to define regressor model\n",
    "regressor = XGBRegressor(learning_rate=.015,\n",
    "    n_estimators=600,\n",
    "    max_depth=2,\n",
    "    min_child_weight=64,\n",
    "    gamma=3,\n",
    "    subsample=.9,\n",
    "    colsample_bytree=.65)\n",
    "\n",
    "# Fit the model to the training data\n",
    "regressor.fit(X_train_scaled, y_train)\n",
    "\n",
    "#Running the model on the training data to predict sales\n",
    "sales_data_predictions = regressor.predict(X_test_scaled)\n",
    "\n",
    "# In order to check the performance of the model we find the R squared Value\n",
    "r2_sales = metrics.r2_score(y_test, sales_data_predictions)\n",
    "print('R Squared value = ', r2_sales)"
   ]
  },
  {
   "cell_type": "markdown",
   "metadata": {},
   "source": []
  },
  {
   "cell_type": "code",
   "execution_count": null,
   "metadata": {},
   "outputs": [],
   "source": []
  },
  {
   "cell_type": "code",
   "execution_count": null,
   "metadata": {},
   "outputs": [],
   "source": []
  }
 ],
 "metadata": {
  "kernelspec": {
   "display_name": "PythonData",
   "language": "python",
   "name": "pythondata"
  },
  "language_info": {
   "codemirror_mode": {
    "name": "ipython",
    "version": 3
   },
   "file_extension": ".py",
   "mimetype": "text/x-python",
   "name": "python",
   "nbconvert_exporter": "python",
   "pygments_lexer": "ipython3",
   "version": "3.9.13"
  },
  "orig_nbformat": 4
 },
 "nbformat": 4,
 "nbformat_minor": 2
}
