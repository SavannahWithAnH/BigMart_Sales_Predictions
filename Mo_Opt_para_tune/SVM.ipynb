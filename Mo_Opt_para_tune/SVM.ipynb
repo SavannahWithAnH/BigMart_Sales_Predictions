{
 "cells": [
  {
   "cell_type": "code",
   "execution_count": 4,
   "metadata": {},
   "outputs": [
    {
     "name": "stdout",
     "output_type": "stream",
     "text": [
      "R-squared: 0.43032958842333036\n"
     ]
    }
   ],
   "source": [
    "from sklearn.model_selection import train_test_split, RandomizedSearchCV\n",
    "from sklearn.preprocessing import StandardScaler\n",
    "from sklearn.svm import SVR\n",
    "from sklearn.metrics import r2_score\n",
    "import pandas as pd\n",
    "\n",
    "# Load dataset and prepare features and target\n",
    "sales_predict_df = pd.read_csv(\"/home/mo/Documents/UNC/Sales_Automated_Tool/Alex's Model/Resources/Train_Output_reg_final.csv\")\n",
    "features_df = sales_predict_df.drop(columns=['Item_Outlet_Sales','Item_Identifier','Item_Weight'])\n",
    "features_df = pd.get_dummies(features_df)\n",
    "\n",
    "X = features_df.values\n",
    "y = sales_predict_df['Item_Outlet_Sales'].values\n",
    "\n",
    "# Data split and standardization\n",
    "X_train, X_test, y_train, y_test = train_test_split(X, y, test_size=0.2, random_state=3)\n",
    "scaler = StandardScaler()\n",
    "X_train_scaled = scaler.fit_transform(X_train)\n",
    "X_test_scaled = scaler.transform(X_test)\n",
    "\n",
    "# Define parameters and run RandomizedSearchCV\n",
    "param_dist = {'C': [400], 'epsilon': [0.01], 'kernel': ['linear'], 'degree': [2]}\n",
    "random_search = RandomizedSearchCV(SVR(), param_dist, n_iter=1, scoring='r2', cv=5)\n",
    "random_search.fit(X_train_scaled, y_train)\n",
    "\n",
    "# Train with best parameters and predict\n",
    "best_params = random_search.best_params_\n",
    "svm_regressor = SVR(**best_params).fit(X_train_scaled, y_train)\n",
    "y_pred = svm_regressor.predict(X_test_scaled)\n",
    "\n",
    "# Calculate and display R-squared\n",
    "print(f'R-squared: {r2_score(y_test, y_pred)}')\n"
   ]
  }
 ],
 "metadata": {
  "kernelspec": {
   "display_name": "base",
   "language": "python",
   "name": "python3"
  },
  "language_info": {
   "codemirror_mode": {
    "name": "ipython",
    "version": 3
   },
   "file_extension": ".py",
   "mimetype": "text/x-python",
   "name": "python",
   "nbconvert_exporter": "python",
   "pygments_lexer": "ipython3",
   "version": "3.10.9"
  },
  "orig_nbformat": 4
 },
 "nbformat": 4,
 "nbformat_minor": 2
}
