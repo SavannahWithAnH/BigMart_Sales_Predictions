{
 "cells": [
  {
   "cell_type": "markdown",
   "metadata": {},
   "source": []
  },
  {
   "cell_type": "code",
   "execution_count": 7,
   "metadata": {},
   "outputs": [],
   "source": [
    "import pandas as pd\n",
    "import tensorflow as tf\n",
    "import numpy as np\n",
    "\n",
    "from sklearn.model_selection import train_test_split\n",
    "from sklearn.preprocessing import StandardScaler\n",
    "from sklearn.impute import SimpleImputer\n",
    "from sklearn.metrics import r2_score\n",
    "from sklearn import metrics\n",
    "\n",
    "from xgboost import XGBRegressor\n",
    "\n",
    "#read trained_modified.csv\n",
    "sales_predict_df = pd.read_csv(\"/home/mo/Documents/UNC/Sales_Automated_Tool/Alex's Model/Resources/train_modified.csv\")\n",
    "sales_predict_df.head()\n",
    "\n",
    "\n",
    "#Create features and target array\n",
    "features_df = sales_predict_df.drop(columns= ['Item_Identifier', 'Outlet_Identifier', 'Item_Outlet_Sales'])\n",
    "target_df = sales_predict_df['Item_Outlet_Sales']\n",
    "#Set the target array values\n",
    "X = features_df.values\n",
    "y = target_df.values\n",
    "\n",
    "# Split the preprocessed data into a training and testing dataset\n",
    "X_train, X_test, y_train, y_test = train_test_split(X, y, random_state=3)\n",
    "\n",
    "# Create a StandardScaler instances\n",
    "scaler = StandardScaler()\n",
    "\n",
    "# Fit the StandardScaler\n",
    "X_scaler = scaler.fit(X_train)\n",
    "\n",
    "# Scale the data\n",
    "X_train_scaled = X_scaler.transform(X_train)\n",
    "X_test_scaled = X_scaler.transform(X_test)\n",
    "\n",
    "\n"
   ]
  },
  {
   "cell_type": "markdown",
   "metadata": {},
   "source": [
    "## Hyperparameter Tuning with Nested Loops\n",
    "\n",
    "In this section, we are using nested `for` loops to iterate through various combinations of hyperparameters for our XGBoost model. This manual grid search approach aims to find the combination that yields the highest R-squared value.\n",
    "\n",
    "### Considerations:\n",
    "- **Time Complexity**: Running this code could take a significant amount of time depending on the dataset size and the number of combinations to be tested.\n",
    "- **Optimization Strategy**: The loop iterates through different combinations of `learning_rate`, `n_estimators`, and `max_depth`. After each iteration, the model is trained and its R-squared score is calculated. The hyperparameters that provide the highest R-squared are then selected."
   ]
  },
  {
   "cell_type": "code",
   "execution_count": 12,
   "metadata": {},
   "outputs": [
    {
     "name": "stdout",
     "output_type": "stream",
     "text": [
      "Best R^2 score: 0.6276390397922874\n",
      "Best parameters: {'learning_rate': 0.015, 'n_estimators': 600, 'max_depth': 2, 'min_child_weight': 64, 'gamma': 3}\n"
     ]
    }
   ],
   "source": [
    "\n",
    "# Initialize variables to hold the best parameters and best R^2 score\n",
    "best_r2 = 0\n",
    "best_params = {}\n",
    "\n",
    "# Define possible parameter values (You can extend this list)\n",
    "learning_rates = [0.01, 0.015, 0.1]\n",
    "n_estimators = [100, 430, 600]\n",
    "max_depths = [2, 3, 10]\n",
    "min_child_weights = [20, 23, 64]\n",
    "gammas = [3, 4, 8]\n",
    "\n",
    "# Nested for loops to check various combinations\n",
    "for lr in learning_rates:\n",
    "    for est in n_estimators:\n",
    "        for depth in max_depths:\n",
    "            for weight in min_child_weights:\n",
    "                for gamma in gammas:\n",
    "                    # Create and fit the regressor\n",
    "                    regressor = XGBRegressor(learning_rate=lr, n_estimators=est, max_depth=depth, min_child_weight=weight, gamma=gamma)\n",
    "                    regressor.fit(X_train_scaled, y_train)\n",
    "                    \n",
    "                    # Predict and calculate R^2\n",
    "                    preds = regressor.predict(X_test_scaled)\n",
    "                    current_r2 = r2_score(y_test, preds)\n",
    "                    \n",
    "                    # Check if this R^2 is greater than the previous best\n",
    "                    if current_r2 > best_r2:\n",
    "                        best_r2 = current_r2\n",
    "                        best_params = {'learning_rate': lr, 'n_estimators': est, 'max_depth': depth, 'min_child_weight': weight, 'gamma': gamma}\n",
    "                        \n",
    "print(f\"Best R^2 score: {best_r2}\")\n",
    "print(f\"Best parameters: {best_params}\")\n"
   ]
  },
  {
   "cell_type": "code",
   "execution_count": 11,
   "metadata": {},
   "outputs": [
    {
     "name": "stdout",
     "output_type": "stream",
     "text": [
      "R Squared value =  0.6261376994075071\n"
     ]
    }
   ],
   "source": [
    "\n",
    "# Uee XGBoost to define regressor model\n",
    "regressor = XGBRegressor(learning_rate=.015,\n",
    "    n_estimators=600,\n",
    "    max_depth=2,\n",
    "    min_child_weight=64,\n",
    "    gamma=3,\n",
    "    subsample=.9,\n",
    "    colsample_bytree=.65)\n",
    "\n",
    "# Fit the model to the training data\n",
    "regressor.fit(X_train_scaled, y_train)\n",
    "\n",
    "#Running the model on the training data to predict sales\n",
    "sales_data_predictions = regressor.predict(X_test_scaled)\n",
    "\n",
    "# In order to check the performance of the model we find the R squared Value\n",
    "r2_sales = metrics.r2_score(y_test, sales_data_predictions)\n",
    "print('R Squared value = ', r2_sales)"
   ]
  },
  {
   "cell_type": "code",
   "execution_count": null,
   "metadata": {},
   "outputs": [],
   "source": []
  },
  {
   "cell_type": "code",
   "execution_count": null,
   "metadata": {},
   "outputs": [],
   "source": []
  }
 ],
 "metadata": {
  "kernelspec": {
   "display_name": "base",
   "language": "python",
   "name": "python3"
  },
  "language_info": {
   "codemirror_mode": {
    "name": "ipython",
    "version": 3
   },
   "file_extension": ".py",
   "mimetype": "text/x-python",
   "name": "python",
   "nbconvert_exporter": "python",
   "pygments_lexer": "ipython3",
   "version": "3.10.9"
  },
  "orig_nbformat": 4
 },
 "nbformat": 4,
 "nbformat_minor": 2
}
