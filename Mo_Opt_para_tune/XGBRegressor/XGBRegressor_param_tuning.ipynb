{
 "cells": [
  {
   "cell_type": "markdown",
   "metadata": {},
   "source": []
  },
  {
   "cell_type": "code",
   "execution_count": 1,
   "metadata": {},
   "outputs": [
    {
     "name": "stderr",
     "output_type": "stream",
     "text": [
      "2023-08-31 13:28:36.908763: I tensorflow/core/platform/cpu_feature_guard.cc:193] This TensorFlow binary is optimized with oneAPI Deep Neural Network Library (oneDNN) to use the following CPU instructions in performance-critical operations:  SSE4.1 SSE4.2 AVX AVX2 FMA\n",
      "To enable them in other operations, rebuild TensorFlow with the appropriate compiler flags.\n"
     ]
    },
    {
     "name": "stdout",
     "output_type": "stream",
     "text": [
      "R Squared value =  0.5602640778140615\n"
     ]
    }
   ],
   "source": [
    "# Import our dependencies\n",
    "from sklearn.model_selection import train_test_split\n",
    "from sklearn.preprocessing import StandardScaler\n",
    "import pandas as pd\n",
    "import tensorflow as tf\n",
    "from sklearn.preprocessing import LabelEncoder\n",
    "from sklearn.model_selection import train_test_split\n",
    "from xgboost import XGBRegressor\n",
    "from sklearn import metrics\n",
    "\n",
    "#read trained_modified.csv\n",
    "sales_predict_df = pd.read_csv(\"/home/mo/Documents/UNC/Sales_Automated_Tool/Alex's Model/Resources/train_modified.csv\")\n",
    "sales_predict_df.head()\n",
    "\n",
    "\n",
    "#Create features and target array\n",
    "features_df = sales_predict_df.drop(columns= ['Item_Identifier', 'Outlet_Identifier', 'Item_Outlet_Sales'])\n",
    "target_df = sales_predict_df['Item_Outlet_Sales']\n",
    "#Set the target array values\n",
    "X = features_df.values\n",
    "y = target_df.values\n",
    "\n",
    "# Split the preprocessed data into a training and testing dataset\n",
    "X_train, X_test, y_train, y_test = train_test_split(X, y, random_state=3)\n",
    "\n",
    "# Create a StandardScaler instances\n",
    "scaler = StandardScaler()\n",
    "\n",
    "# Fit the StandardScaler\n",
    "X_scaler = scaler.fit(X_train)\n",
    "\n",
    "# Scale the data\n",
    "X_train_scaled = X_scaler.transform(X_train)\n",
    "X_test_scaled = X_scaler.transform(X_test)\n",
    "\n",
    "# Uee XGBoost to define regressor model\n",
    "regressor = XGBRegressor(learning_rate=0.01,\n",
    "    n_estimators=250,\n",
    "    max_depth=2,\n",
    "    min_child_weight=23,\n",
    "    gamma=2,\n",
    "    subsample=.9,\n",
    "    colsample_bytree=.65)\n",
    "\n",
    "# Fit the model to the training data\n",
    "regressor.fit(X_train_scaled, y_train)\n",
    "\n",
    "#Running the model on the training data to predict sales\n",
    "sales_data_predictions = regressor.predict(X_test_scaled)\n",
    "\n",
    "# In order to check the performance of the model we find the R squared Value\n",
    "r2_sales = metrics.r2_score(y_test, sales_data_predictions)\n",
    "print('R Squared value = ', r2_sales)"
   ]
  }
 ],
 "metadata": {
  "kernelspec": {
   "display_name": "base",
   "language": "python",
   "name": "python3"
  },
  "language_info": {
   "codemirror_mode": {
    "name": "ipython",
    "version": 3
   },
   "file_extension": ".py",
   "mimetype": "text/x-python",
   "name": "python",
   "nbconvert_exporter": "python",
   "pygments_lexer": "ipython3",
   "version": "3.10.9"
  },
  "orig_nbformat": 4
 },
 "nbformat": 4,
 "nbformat_minor": 2
}
