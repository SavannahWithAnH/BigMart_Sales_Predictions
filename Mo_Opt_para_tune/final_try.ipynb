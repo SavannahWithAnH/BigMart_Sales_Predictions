{
 "cells": [
  {
   "cell_type": "code",
   "execution_count": 17,
   "metadata": {},
   "outputs": [
    {
     "name": "stdout",
     "output_type": "stream",
     "text": [
      "<class 'pandas.core.frame.DataFrame'>\n",
      "RangeIndex: 8523 entries, 0 to 8522\n",
      "Data columns (total 13 columns):\n",
      " #   Column                     Non-Null Count  Dtype   \n",
      "---  ------                     --------------  -----   \n",
      " 0   Item_Identifier            8523 non-null   object  \n",
      " 1   Item_Weight                8523 non-null   float64 \n",
      " 2   Item_Fat_Content           8523 non-null   object  \n",
      " 3   Item_Visibility            8523 non-null   float64 \n",
      " 4   Item_Type                  8523 non-null   object  \n",
      " 5   Item_MRP                   8523 non-null   float64 \n",
      " 6   Outlet_Identifier          8523 non-null   object  \n",
      " 7   Outlet_Establishment_Year  8523 non-null   int64   \n",
      " 8   Outlet_Size                8523 non-null   object  \n",
      " 9   Outlet_Location_Type       8523 non-null   object  \n",
      " 10  Outlet_Type                8523 non-null   object  \n",
      " 11  Item_Outlet_Sales          8523 non-null   float64 \n",
      " 12  Item_Outlet_Sales_Binned   8234 non-null   category\n",
      "dtypes: category(1), float64(4), int64(1), object(7)\n",
      "memory usage: 808.3+ KB\n"
     ]
    }
   ],
   "source": [
    "import pandas as pd\n",
    "\n",
    "\n",
    "df = pd.read_csv(\"/home/mo/Documents/UNC/Sales_Automated_Tool/Alex's Model/Resources/Train_Output_CSV.csv\")\n",
    "\n",
    "# Define the bin edges\n",
    "bins = list(range(0, 6001, 400))\n",
    "\n",
    "# Create the bins\n",
    "df['Item_Outlet_Sales_Binned'] = pd.cut(df['Item_Outlet_Sales'], bins=bins)\n",
    "\n",
    "df.info()\n"
   ]
  },
  {
   "cell_type": "code",
   "execution_count": 18,
   "metadata": {},
   "outputs": [],
   "source": [
    "\n",
    "# Export the DataFrame to a new CSV file\n",
    "df.to_csv('Train_modified_Binned_150.csv', index=False)\n"
   ]
  }
 ],
 "metadata": {
  "kernelspec": {
   "display_name": "base",
   "language": "python",
   "name": "python3"
  },
  "language_info": {
   "codemirror_mode": {
    "name": "ipython",
    "version": 3
   },
   "file_extension": ".py",
   "mimetype": "text/x-python",
   "name": "python",
   "nbconvert_exporter": "python",
   "pygments_lexer": "ipython3",
   "version": "3.10.9"
  },
  "orig_nbformat": 4
 },
 "nbformat": 4,
 "nbformat_minor": 2
}
