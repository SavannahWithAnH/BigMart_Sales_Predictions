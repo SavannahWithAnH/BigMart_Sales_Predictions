{
 "cells": [
  {
   "cell_type": "code",
   "execution_count": 1,
   "metadata": {},
   "outputs": [
    {
     "name": "stdout",
     "output_type": "stream",
     "text": [
      "R Squared value =  0.5931222080674248\n"
     ]
    }
   ],
   "source": [
    "# Import necessary libraries\n",
    "from sklearn.model_selection import train_test_split, RandomizedSearchCV\n",
    "from sklearn.preprocessing import StandardScaler\n",
    "from sklearn.ensemble import RandomForestRegressor\n",
    "from sklearn import metrics\n",
    "import pandas as pd\n",
    "\n",
    "# Load the dataset\n",
    "sales_predict_df = pd.read_csv(\"./Resources/train_modified.csv\")\n",
    "\n",
    "# Prepare features and target\n",
    "features_df = sales_predict_df.drop(columns=['Item_Identifier', 'Outlet_Identifier', 'Item_Outlet_Sales'])\n",
    "target_df = sales_predict_df['Item_Outlet_Sales']\n",
    "\n",
    "X = features_df.values\n",
    "y = target_df.values\n",
    "\n",
    "# Split the data into training and testing sets\n",
    "X_train, X_test, y_train, y_test = train_test_split(X, y, random_state=42)\n",
    "\n",
    "# Standardize features\n",
    "scaler = StandardScaler()\n",
    "X_train_scaled = scaler.fit_transform(X_train)\n",
    "X_test_scaled = scaler.transform(X_test)\n",
    "\n",
    "# Create a Random Forest regressor\n",
    "regressor = RandomForestRegressor(random_state=42)\n",
    "\n",
    "# Define the hyperparameter grid for Randomized Search\n",
    "param_grid = {\n",
    "    'n_estimators': [100, 200, 300],\n",
    "    'max_depth': [None, 10, 20, 30],\n",
    "    'min_samples_split': [2, 5, 10],\n",
    "    'min_samples_leaf': [1, 2, 4],\n",
    "    'bootstrap': [True, False]\n",
    "}\n",
    "\n",
    "# Create a RandomizedSearchCV object\n",
    "random_search = RandomizedSearchCV(\n",
    "    estimator=regressor,\n",
    "    param_distributions=param_grid,\n",
    "    n_iter=10,  # Number of parameter settings that are sampled\n",
    "    scoring='neg_mean_squared_error',  # Metric to optimize\n",
    "    cv=5,  # Cross-validation folds\n",
    "    random_state=42,\n",
    "    n_jobs=-1  # Use all available cores\n",
    ")\n",
    "\n",
    "# Fit the RandomizedSearchCV on the training data\n",
    "random_search.fit(X_train_scaled, y_train)\n",
    "\n",
    "# Get the best model from RandomizedSearchCV\n",
    "best_regressor = random_search.best_estimator_\n",
    "\n",
    "# Make predictions on the test set\n",
    "sales_data_predictions = best_regressor.predict(X_test_scaled)\n",
    "\n",
    "# Calculate R squared value\n",
    "r2_sales = metrics.r2_score(y_test, sales_data_predictions)\n",
    "print('R Squared value = ', r2_sales)\n"
   ]
  }
 ],
 "metadata": {
  "kernelspec": {
   "display_name": "PythonData",
   "language": "python",
   "name": "pythondata"
  },
  "language_info": {
   "codemirror_mode": {
    "name": "ipython",
    "version": 3
   },
   "file_extension": ".py",
   "mimetype": "text/x-python",
   "name": "python",
   "nbconvert_exporter": "python",
   "pygments_lexer": "ipython3",
   "version": "3.9.13"
  },
  "orig_nbformat": 4
 },
 "nbformat": 4,
 "nbformat_minor": 2
}
