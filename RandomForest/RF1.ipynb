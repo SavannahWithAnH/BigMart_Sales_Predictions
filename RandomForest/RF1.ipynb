{
 "cells": [
  {
   "cell_type": "code",
   "execution_count": 14,
   "metadata": {},
   "outputs": [
    {
     "name": "stdout",
     "output_type": "stream",
     "text": [
      "R Squared value =  0.567767411344106\n"
     ]
    }
   ],
   "source": [
    "# Import our dependencies\n",
    "from sklearn.model_selection import train_test_split\n",
    "from sklearn.preprocessing import StandardScaler\n",
    "import pandas as pd\n",
    "from sklearn.ensemble import RandomForestRegressor\n",
    "from sklearn import metrics\n",
    "\n",
    "# Import and read the train_modified.csv.\n",
    "import pandas as pd\n",
    "sales_predict_df = pd.read_csv(\"./Resources/train_modified.csv\")\n",
    "sales_predict_df.head()\n",
    "\n",
    "# Create features and target arrays\n",
    "features_df = sales_predict_df.drop(columns=['Item_Identifier', 'Outlet_Identifier', 'Item_Outlet_Sales'])\n",
    "target_df = sales_predict_df['Item_Outlet_Sales']\n",
    "\n",
    "# Set the target array values\n",
    "X = features_df.values\n",
    "y = target_df.values\n",
    "\n",
    "# Split the preprocessed data into a training and testing dataset\n",
    "X_train, X_test, y_train, y_test = train_test_split(X, y, random_state=42)\n",
    "\n",
    "# Create a StandardScaler instance\n",
    "scaler = StandardScaler()\n",
    "\n",
    "# Fit the StandardScaler\n",
    "X_train_scaled = scaler.fit_transform(X_train)\n",
    "X_test_scaled = scaler.transform(X_test)\n",
    "\n",
    "# Use Random Forest regressor\n",
    "regressor = RandomForestRegressor(random_state=42)\n",
    "\n",
    "# Fit the model to the training data\n",
    "regressor.fit(X_train_scaled, y_train)\n",
    "\n",
    "# Running the model on the testing data to predict sales\n",
    "sales_data_predictions = regressor.predict(X_test_scaled)\n",
    "\n",
    "# Calculate R squared value\n",
    "r2_sales = metrics.r2_score(y_test, sales_data_predictions)\n",
    "print('R Squared value = ', r2_sales)\n"
   ]
  },
  {
   "cell_type": "code",
   "execution_count": 11,
   "metadata": {},
   "outputs": [
    {
     "name": "stdout",
     "output_type": "stream",
     "text": [
      "Contents of current directory: ['.git', '.gitignore', 'randomforest.ipynb', 'README.md', 'Resources']\n"
     ]
    }
   ],
   "source": [
    "import os\n",
    "print(\"Contents of current directory:\", os.listdir())"
   ]
  }
 ],
 "metadata": {
  "kernelspec": {
   "display_name": "PythonData",
   "language": "python",
   "name": "pythondata"
  },
  "language_info": {
   "codemirror_mode": {
    "name": "ipython",
    "version": 3
   },
   "file_extension": ".py",
   "mimetype": "text/x-python",
   "name": "python",
   "nbconvert_exporter": "python",
   "pygments_lexer": "ipython3",
   "version": "3.9.13"
  },
  "orig_nbformat": 4
 },
 "nbformat": 4,
 "nbformat_minor": 2
}
